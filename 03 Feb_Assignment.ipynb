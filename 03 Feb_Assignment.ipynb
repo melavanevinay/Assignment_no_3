{
 "cells": [
  {
   "cell_type": "markdown",
   "id": "cd37be88-856a-4c67-9742-6ed9f05a515a",
   "metadata": {},
   "source": [
    "# Assignment No 3"
   ]
  },
  {
   "cell_type": "markdown",
   "id": "eb0ad806-efb6-4da9-8c14-0aa37f925f75",
   "metadata": {},
   "source": [
    "## Question No : 1\n",
    "## Which keyword is used to create a function? Create a function to return a list of odd numbers in the range of 1 to 25."
   ]
  },
  {
   "cell_type": "markdown",
   "id": "21cf4943-c7e9-4574-a10c-0120b85a4c6d",
   "metadata": {},
   "source": [
    "## 'def' keyword is used to create a function"
   ]
  },
  {
   "cell_type": "code",
   "execution_count": 34,
   "id": "5fb8db7d-3423-4d2d-9bd3-7fc5e0536e08",
   "metadata": {},
   "outputs": [],
   "source": [
    "def odd(a):\n",
    "    n=[]\n",
    "    for i in range(a):\n",
    "        if i % 2 != 0:\n",
    "            n.append(i)\n",
    "    return n"
   ]
  },
  {
   "cell_type": "code",
   "execution_count": 35,
   "id": "be0e021b-b085-4218-950b-28563c098831",
   "metadata": {},
   "outputs": [
    {
     "data": {
      "text/plain": [
       "[1, 3, 5, 7, 9, 11, 13, 15, 17, 19, 21, 23, 25]"
      ]
     },
     "execution_count": 35,
     "metadata": {},
     "output_type": "execute_result"
    }
   ],
   "source": [
    "odd(26)"
   ]
  },
  {
   "cell_type": "markdown",
   "id": "196e0447-798d-424c-b362-8b3f0d40b750",
   "metadata": {},
   "source": [
    "## Question No 2 :"
   ]
  },
  {
   "cell_type": "markdown",
   "id": "60c729ee-5ddf-4499-aba5-a582400483ea",
   "metadata": {},
   "source": [
    "## Why *args and **kwargs is used in some functions? Create a function each for *args and **kwargs to demonstrate their use."
   ]
  },
  {
   "cell_type": "markdown",
   "id": "1e0a6cc6-d3f7-4140-b722-9afeb4959402",
   "metadata": {},
   "source": [
    "## For *args\n",
    "## If we are unknown with how many arguments needed to be passed in the function, use * before parameter name in function.\n",
    "## This way the function will return tuple of arguments from which items can be accessed"
   ]
  },
  {
   "cell_type": "markdown",
   "id": "c540d085-6894-46c4-8d82-056171ab40f5",
   "metadata": {},
   "source": [
    "## Example :"
   ]
  },
  {
   "cell_type": "code",
   "execution_count": 36,
   "id": "7d1b5d8b-dcd0-4385-8a47-120814ec32b8",
   "metadata": {},
   "outputs": [],
   "source": [
    "def arbitary(*args):\n",
    "    return args"
   ]
  },
  {
   "cell_type": "code",
   "execution_count": 37,
   "id": "28db1110-94e9-45e1-a8c2-7ff70a0b2b41",
   "metadata": {},
   "outputs": [
    {
     "data": {
      "text/plain": [
       "(1, 2, 3, 4, 5, 6, 'Vinay')"
      ]
     },
     "execution_count": 37,
     "metadata": {},
     "output_type": "execute_result"
    }
   ],
   "source": [
    "arbitary(1,2,3,4,5,6,\"Vinay\")"
   ]
  },
  {
   "cell_type": "markdown",
   "id": "50073e0c-07b6-4015-8c62-72259d21ae83",
   "metadata": {},
   "source": [
    "## For **kwargs :"
   ]
  },
  {
   "cell_type": "markdown",
   "id": "95218ee4-c40d-460b-a1fb-b37d16af5e2a",
   "metadata": {},
   "source": [
    "## If we are unknown with the number of keyword arguments to be passed in the function add two asterisk \"**\" before name of parameter function."
   ]
  },
  {
   "cell_type": "code",
   "execution_count": 38,
   "id": "ce6dd367-4893-4bdd-8330-68bc2db219d5",
   "metadata": {},
   "outputs": [],
   "source": [
    "def keyword(**kwargs):\n",
    "    return kwargs\n",
    "    "
   ]
  },
  {
   "cell_type": "code",
   "execution_count": 39,
   "id": "c010f2aa-3b84-46d0-958f-bcb224db46ad",
   "metadata": {},
   "outputs": [
    {
     "data": {
      "text/plain": [
       "{'a': 1, 'b': 2, 'c': 3, 'd': 'vinay'}"
      ]
     },
     "execution_count": 39,
     "metadata": {},
     "output_type": "execute_result"
    }
   ],
   "source": [
    "keyword(a=1,b=2,c=3,d=\"vinay\")"
   ]
  },
  {
   "cell_type": "markdown",
   "id": "768390a3-8442-4a94-9f2e-af10a08ce041",
   "metadata": {},
   "source": [
    "## Question no : 3"
   ]
  },
  {
   "cell_type": "markdown",
   "id": "67aeae05-407a-4bf7-bf1c-55f16cae1de9",
   "metadata": {},
   "source": [
    "## What is an iterator in python? Name the method used to initialise the iterator object and the method used for iteration. Use these methods to print the first five elements of the given list [2, 4, 6, 8, 10, 12, 14, 16, 18, 20]."
   ]
  },
  {
   "cell_type": "markdown",
   "id": "39dd85f3-e825-48ac-88af-4710caa4ff56",
   "metadata": {},
   "source": [
    "## Iterator in python is a object which allows to iterate over collection of data such as List, Tuples, Dictonery Etc."
   ]
  },
  {
   "cell_type": "markdown",
   "id": "497350ca-6d4f-4559-916a-0cc891918813",
   "metadata": {},
   "source": [
    "## Iterator are implemented by using two methods: \n",
    "## 1. iter() : iter() method is used to create or initialise the iterator through iterable objects.\n",
    "## 2. next() : next() method is used to return next item from iterator.\n",
    "## These both methods collectively called as iterative protocol."
   ]
  },
  {
   "cell_type": "code",
   "execution_count": 40,
   "id": "56d050b7-bdcb-4248-ba1c-d4a0ece3a84e",
   "metadata": {},
   "outputs": [
    {
     "name": "stdout",
     "output_type": "stream",
     "text": [
      "<list_iterator object at 0x7ff218332bf0>\n",
      "2\n",
      "4\n",
      "6\n",
      "8\n",
      "10\n"
     ]
    }
   ],
   "source": [
    "l = [2, 4, 6, 8, 10, 12, 14, 16, 18, 20]\n",
    "iterator = iter(l)\n",
    "print(iterator)\n",
    "\n",
    "print(next(iterator))\n",
    "print(next(iterator))\n",
    "print(next(iterator))\n",
    "print(next(iterator))\n",
    "print(next(iterator))"
   ]
  },
  {
   "cell_type": "markdown",
   "id": "7f5d3de4-2017-4420-8406-ea532b2fce90",
   "metadata": {},
   "source": [
    "## Question no 4 :\n",
    "## What is a generator function in python? Why yield keyword is used? Give an example of a generator function."
   ]
  },
  {
   "cell_type": "markdown",
   "id": "2481ed7b-9f60-4df7-ae63-97bb4fe836ae",
   "metadata": {},
   "source": [
    "## Generator function is function in python which returns an iterator that creates sequence of results when iterated."
   ]
  },
  {
   "cell_type": "markdown",
   "id": "87847c0d-cad9-4630-8abf-53a9c2b7ce8c",
   "metadata": {},
   "source": [
    "## The yield keyword will convert an expression that is specified along with it to a generator object and return it to the caller"
   ]
  },
  {
   "cell_type": "code",
   "execution_count": 41,
   "id": "41e1b956-b79c-424c-af86-d8627c8be66f",
   "metadata": {},
   "outputs": [],
   "source": [
    "def fib(n):\n",
    "    a,b=0,1\n",
    "    for i in range(n):\n",
    "        a,b=b,a+b\n",
    "        yield a\n",
    "    "
   ]
  },
  {
   "cell_type": "code",
   "execution_count": 42,
   "id": "ea2014cd-9ee4-4a3a-8a22-ebf0636dbef7",
   "metadata": {},
   "outputs": [
    {
     "name": "stdout",
     "output_type": "stream",
     "text": [
      "1\n",
      "1\n",
      "2\n",
      "3\n",
      "5\n",
      "8\n",
      "13\n",
      "21\n",
      "34\n",
      "55\n"
     ]
    }
   ],
   "source": [
    "for i in fib(10):\n",
    "    print(i)"
   ]
  },
  {
   "cell_type": "markdown",
   "id": "ccad325e-ed8a-4a10-bf5e-86b023dd9a25",
   "metadata": {},
   "source": [
    "## Question No 5:\n",
    "## Create a generator function for prime numbers less than 1000. Use the next() method to print the first 20 prime numbers."
   ]
  },
  {
   "cell_type": "code",
   "execution_count": 43,
   "id": "dd24e870-3c3c-4325-af6b-f57ff32fcc02",
   "metadata": {},
   "outputs": [],
   "source": [
    "def prime(n):\n",
    "    for i in range (1,n):\n",
    "        count = 0\n",
    "        for j in range (1,i+1):\n",
    "            if i % j == 0:\n",
    "                count = count + 1\n",
    "        if count == 2:\n",
    "            yield i"
   ]
  },
  {
   "cell_type": "code",
   "execution_count": 44,
   "id": "316166e8-f5b0-4229-891a-0c5512942bc7",
   "metadata": {},
   "outputs": [
    {
     "name": "stdout",
     "output_type": "stream",
     "text": [
      "2\n",
      "3\n",
      "5\n",
      "7\n",
      "11\n",
      "13\n",
      "17\n",
      "19\n",
      "23\n",
      "29\n",
      "31\n",
      "37\n",
      "41\n",
      "43\n",
      "47\n",
      "53\n",
      "59\n",
      "61\n",
      "67\n",
      "71\n"
     ]
    }
   ],
   "source": [
    "prime(1000)\n",
    "iterator=iter(prime(1000))\n",
    "print(next(iterator))\n",
    "print(next(iterator))\n",
    "print(next(iterator))\n",
    "print(next(iterator))\n",
    "print(next(iterator))\n",
    "print(next(iterator))\n",
    "print(next(iterator))\n",
    "print(next(iterator))\n",
    "print(next(iterator))\n",
    "print(next(iterator))\n",
    "print(next(iterator))\n",
    "print(next(iterator))\n",
    "print(next(iterator))\n",
    "print(next(iterator))\n",
    "print(next(iterator))\n",
    "print(next(iterator))\n",
    "print(next(iterator))\n",
    "print(next(iterator))\n",
    "print(next(iterator))\n",
    "print(next(iterator))"
   ]
  },
  {
   "cell_type": "code",
   "execution_count": null,
   "id": "d40cb84c-14a1-4181-910d-20f20b91346b",
   "metadata": {},
   "outputs": [],
   "source": []
  }
 ],
 "metadata": {
  "kernelspec": {
   "display_name": "Python 3 (ipykernel)",
   "language": "python",
   "name": "python3"
  },
  "language_info": {
   "codemirror_mode": {
    "name": "ipython",
    "version": 3
   },
   "file_extension": ".py",
   "mimetype": "text/x-python",
   "name": "python",
   "nbconvert_exporter": "python",
   "pygments_lexer": "ipython3",
   "version": "3.10.8"
  }
 },
 "nbformat": 4,
 "nbformat_minor": 5
}
